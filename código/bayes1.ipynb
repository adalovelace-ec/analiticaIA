{
 "cells": [
  {
   "cell_type": "markdown",
   "id": "1c33b8c8",
   "metadata": {},
   "source": [
    "código para definir y manipular redes bayesianas (Directed Acyclic Graphs)\n",
    "usamos el mismo ambiente para instalar bayespy"
   ]
  },
  {
   "cell_type": "code",
   "execution_count": 2,
   "id": "e81073f0",
   "metadata": {},
   "outputs": [
    {
     "name": "stdout",
     "output_type": "stream",
     "text": [
      "+------+----------+\n",
      "| L    |   phi(L) |\n",
      "+======+==========+\n",
      "| L(0) |   0.6500 |\n",
      "+------+----------+\n",
      "| L(1) |   0.3500 |\n",
      "+------+----------+\n"
     ]
    }
   ],
   "source": [
    "from pgmpy.models import DiscreteBayesianNetwork\n",
    "from pgmpy.factors.discrete import TabularCPD\n",
    "from pgmpy.inference import VariableElimination\n",
    "\n",
    "# Definir la estructura del grafo (DAG)\n",
    "model = DiscreteBayesianNetwork([\n",
    "    ('I', 'S'),   # I -> S\n",
    "    ('I', 'G'),   # I -> G\n",
    "    ('D', 'G'),   # D -> G\n",
    "    ('G', 'L')    # G -> L\n",
    "])\n",
    "\n",
    "# Luego defines las CPDs igual que antes\n",
    "cpd_I = TabularCPD(variable='I', variable_card=2, values=[[0.7], [0.3]])\n",
    "cpd_S = TabularCPD(variable='S', variable_card=2,\n",
    "                   values=[[0.9, 0.4],\n",
    "                           [0.1, 0.6]],\n",
    "                   evidence=['I'],\n",
    "                   evidence_card=[2])\n",
    "cpd_D = TabularCPD(variable='D', variable_card=2, values=[[0.6], [0.4]])\n",
    "cpd_G = TabularCPD(variable='G', variable_card=2,\n",
    "                   values=[\n",
    "                       [0.95, 0.8, 0.7, 0.1],\n",
    "                       [0.05, 0.2, 0.3, 0.9]\n",
    "                   ],\n",
    "                   evidence=['I', 'D'],\n",
    "                   evidence_card=[2, 2])\n",
    "cpd_L = TabularCPD(variable='L', variable_card=2,\n",
    "                   values=[[0.8, 0.3],\n",
    "                           [0.2, 0.7]],\n",
    "                   evidence=['G'],\n",
    "                   evidence_card=[2])\n",
    "\n",
    "model.add_cpds(cpd_I, cpd_S, cpd_D, cpd_G, cpd_L)\n",
    "\n",
    "assert model.check_model()\n",
    "\n",
    "infer = VariableElimination(model)\n",
    "\n",
    "# Ejemplo de consulta\n",
    "result = infer.query(variables=['L'], evidence={'I': 1, 'D': 0})\n",
    "print(result)\n"
   ]
  },
  {
   "cell_type": "code",
   "execution_count": 2,
   "id": "d1b71e3c",
   "metadata": {},
   "outputs": [
    {
     "data": {
      "application/vnd.jupyter.widget-view+json": {
       "model_id": "4860d98d46504948bf80e24bc9ffb87b",
       "version_major": 2,
       "version_minor": 0
      },
      "text/plain": [
       "IntSlider(value=0)"
      ]
     },
     "execution_count": 2,
     "metadata": {},
     "output_type": "execute_result"
    }
   ],
   "source": [
    "#verificación de widget\n",
    "\n",
    "import ipywidgets as widgets\n",
    "widgets.IntSlider()\n"
   ]
  },
  {
   "cell_type": "code",
   "execution_count": 3,
   "id": "cda031ab",
   "metadata": {},
   "outputs": [
    {
     "data": {
      "image/png": "[encoded data removed]",
      "text/plain": [
       "<Figure size 800x600 with 1 Axes>"
      ]
     },
     "metadata": {},
     "output_type": "display_data"
    },
    {
     "data": {
      "application/vnd.jupyter.widget-view+json": {
       "model_id": "30b6f915886b42b391ab57185f973724",
       "version_major": 2,
       "version_minor": 0
      },
      "text/plain": [
       "Dropdown(description='Nodo:', options=('I', 'S', 'D', 'G', 'L'), value='I')"
      ]
     },
     "metadata": {},
     "output_type": "display_data"
    },
    {
     "data": {
      "application/vnd.jupyter.widget-view+json": {
       "model_id": "9d1f59d56a1d49ecaf2a3673957d7570",
       "version_major": 2,
       "version_minor": 0
      },
      "text/plain": [
       "Output()"
      ]
     },
     "metadata": {},
     "output_type": "display_data"
    }
   ],
   "source": [
    "import networkx as nx\n",
    "import matplotlib.pyplot as plt\n",
    "from IPython.display import display, clear_output\n",
    "import ipywidgets as widgets\n",
    "from pgmpy.models import DiscreteBayesianNetwork\n",
    "from pgmpy.factors.discrete import TabularCPD\n",
    "\n",
    "\n",
    "# Graficar la red bayesiana con padres arriba y descendientes abajo\n",
    "# Crear grafo dirigido con NetworkX\n",
    "G = nx.DiGraph()\n",
    "G.add_edges_from(model.edges())\n",
    "\n",
    "# Calcular niveles para jerarquía padres arriba\n",
    "levels = {}\n",
    "for node in nx.topological_sort(G):\n",
    "    parents = list(G.predecessors(node))\n",
    "    if not parents:\n",
    "        levels[node] = 0\n",
    "    else:\n",
    "        levels[node] = max(levels[p] for p in parents) + 1\n",
    "\n",
    "# Agrupar nodos por nivel\n",
    "level_nodes = {}\n",
    "for node, level in levels.items():\n",
    "    level_nodes.setdefault(level, []).append(node)\n",
    "\n",
    "# Asignar posiciones para graficar (padres arriba)\n",
    "pos = {}\n",
    "max_level = max(levels.values())\n",
    "for level, nodes in level_nodes.items():\n",
    "    y = max_level - level  # invertir eje Y para que nivel 0 quede arriba\n",
    "    x_spacing = 1 / (len(nodes) + 1)\n",
    "    for i, node in enumerate(nodes, start=1):\n",
    "        x = i * x_spacing\n",
    "        pos[node] = (x, y)\n",
    "\n",
    "# Dibujar el grafo\n",
    "plt.figure(figsize=(8, 6))\n",
    "nx.draw(G, pos, with_labels=True, node_size=3000, node_color='lightblue', arrowsize=20)\n",
    "plt.title(\"Red Bayesiana con padres arriba y descendientes abajo\")\n",
    "plt.axis('off')\n",
    "plt.show()\n",
    "\n",
    "# Crear dropdown para seleccionar nodo y mostrar CPD\n",
    "dropdown = widgets.Dropdown(\n",
    "    options=[cpd.variable for cpd in model.get_cpds()],\n",
    "    description='Nodo:',\n",
    "    disabled=False,\n",
    ")\n",
    "\n",
    "output = widgets.Output()\n",
    "\n",
    "def on_change(change):\n",
    "    if change['type'] == 'change' and change['name'] == 'value':\n",
    "        output.clear_output()\n",
    "        selected = change['new']\n",
    "        for cpd in model.get_cpds():\n",
    "            if cpd.variable == selected:\n",
    "                with output:\n",
    "                    print(f\"Tabla de Probabilidades Condicionales (CPD) para nodo {selected}:\\n\")\n",
    "                    print(cpd)\n",
    "                break\n",
    "\n",
    "dropdown.observe(on_change)\n",
    "\n",
    "display(dropdown, output)\n",
    "\n",
    "# Mostrar CPD inicial\n",
    "dropdown.value = dropdown.options[0]\n"
   ]
  },
  {
   "cell_type": "code",
   "execution_count": 4,
   "id": "7b73bf80",
   "metadata": {},
   "outputs": [
    {
     "name": "stdout",
     "output_type": "stream",
     "text": [
      "+------+----------+\n",
      "| L    |   phi(L) |\n",
      "+======+==========+\n",
      "| L(0) |   0.6500 |\n",
      "+------+----------+\n",
      "| L(1) |   0.3500 |\n",
      "+------+----------+\n"
     ]
    }
   ],
   "source": [
    "# Ejemplo de consulta 1\n",
    "result = infer.query(variables=['L'], evidence={'I': 1, 'D': 0})\n",
    "print(result)"
   ]
  },
  {
   "cell_type": "code",
   "execution_count": 5,
   "id": "fc731804",
   "metadata": {},
   "outputs": [
    {
     "name": "stdout",
     "output_type": "stream",
     "text": [
      "P(D | S=0):\n",
      "+------+----------+\n",
      "| D    |   phi(D) |\n",
      "+======+==========+\n",
      "| D(0) |   0.6000 |\n",
      "+------+----------+\n",
      "| D(1) |   0.4000 |\n",
      "+------+----------+\n",
      "P(D | S=1):\n",
      "+------+----------+\n",
      "| D    |   phi(D) |\n",
      "+======+==========+\n",
      "| D(0) |   0.6000 |\n",
      "+------+----------+\n",
      "| D(1) |   0.4000 |\n",
      "+------+----------+\n"
     ]
    }
   ],
   "source": [
    "# Ejemplo de consulta 2\n",
    "# Estados posibles de S (ajusta según tu variable)\n",
    "estados_S = [0, 1]\n",
    "\n",
    "for estado in estados_S:\n",
    "    evidencia = {'S': estado}\n",
    "    query_result = infer.query(variables=['D'], evidence=evidencia)\n",
    "    print(f\"P(D | S={estado}):\")\n",
    "    print(query_result)"
   ]
  }
 ],
 "metadata": {
  "kernelspec": {
   "display_name": "Python 3",
   "language": "python",
   "name": "python3"
  },
  "language_info": {
   "codemirror_mode": {
    "name": "ipython",
    "version": 3
   },
   "file_extension": ".py",
   "mimetype": "text/x-python",
   "name": "python",
   "nbconvert_exporter": "python",
   "pygments_lexer": "ipython3",
   "version": "3.13.5"
  }
 },
 "nbformat": 4,
 "nbformat_minor": 5
}
