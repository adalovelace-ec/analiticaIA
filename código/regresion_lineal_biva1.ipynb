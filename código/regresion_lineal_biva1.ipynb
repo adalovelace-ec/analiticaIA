{
 "cells": [
  {
   "cell_type": "code",
   "execution_count": 1,
   "metadata": {},
   "outputs": [
    {
     "name": "stdout",
     "output_type": "stream",
     "text": [
      "tensor(-2.)\n"
     ]
    }
   ],
   "source": [
    "#ejemplo 1\n",
    "\n",
    "import torch\n",
    "\n",
    "x = torch.tensor(1.0)\n",
    "y = torch.tensor(2.0)\n",
    "\n",
    "w = torch.tensor(1.0, requires_grad = True)\n",
    "\n",
    "# forward pass and compute the loss\n",
    "\n",
    "y_hat = w*x\n",
    "loss = (y_hat-y)**2\n",
    "\n",
    "\n",
    "#backward pass\n",
    "loss.backward()\n",
    "print(w.grad)\n"
   ]
  },
  {
   "cell_type": "code",
   "execution_count": 2,
   "metadata": {},
   "outputs": [
    {
     "name": "stdout",
     "output_type": "stream",
     "text": [
      "iteracion: 0   w= 0.028   loss = 0.327\n",
      "iteracion: 1   w= 0.055   loss = 0.313\n",
      "iteracion: 2   w= 0.079   loss = 0.300\n",
      "iteracion: 3   w= 0.101   loss = 0.288\n",
      "iteracion: 4   w= 0.121   loss = 0.277\n",
      "iteracion: 5   w= 0.139   loss = 0.267\n",
      "iteracion: 6   w= 0.157   loss = 0.257\n",
      "iteracion: 7   w= 0.172   loss = 0.249\n",
      "iteracion: 8   w= 0.187   loss = 0.241\n",
      "iteracion: 9   w= 0.200   loss = 0.234\n",
      " valores originales de y [0.18112941 0.60232147 0.27349814 0.42066784 0.15817408]\n",
      "prediction after training [0.19434632 0.0112266  0.15827635 0.13437143 0.0022056 ]\n",
      "w after training 0.2000993915438463\n"
     ]
    }
   ],
   "source": [
    "# ejemplo 2\n",
    "import numpy as np\n",
    "X = np.random.rand(5)\n",
    "Y = np.random.rand(5)\n",
    "\n",
    "w = 0\n",
    "\n",
    "# model prediction\n",
    "def Y_hat(x):\n",
    "    return w*x\n",
    "\n",
    "def loss(y,x):\n",
    "    return y-Y_hat(x)\n",
    "\n",
    "def gradient(x, y):\n",
    "    return np.dot(2*x,Y_hat(x)-y).mean()\n",
    "\n",
    "learning_rate = 0.02\n",
    "n_iters =10\n",
    "\n",
    "for epoch in range(n_iters):\n",
    "    l = loss(Y, X)\n",
    "    dl_dw = gradient(X, Y)\n",
    "    w -= learning_rate*dl_dw\n",
    "    if epoch % 1 == 0:\n",
    "        print(f'iteracion: {epoch}   w= {w:.3f}   loss = {l.mean():.3f}')\n",
    "\n",
    "# una \"epoch\" es un ciclo completo de entrenamiento sobre todo el dataset\n",
    "\n",
    "print(f' valores originales de y {Y}')\n",
    "print(f'prediction after training {Y_hat(X)}')\n",
    "print(f'w after training {w}')   \n",
    "\n",
    "\n",
    "\n"
   ]
  },
  {
   "cell_type": "code",
   "execution_count": 3,
   "metadata": {},
   "outputs": [
    {
     "name": "stdout",
     "output_type": "stream",
     "text": [
      "iteración: 0   w= 0.010   loss= 0.380\n",
      "iteración: 1   w= 0.020   loss= 0.375\n",
      "iteración: 2   w= 0.029   loss= 0.370\n",
      "iteración: 3   w= 0.039   loss= 0.366\n",
      "iteración: 4   w= 0.048   loss= 0.361\n",
      "iteración: 5   w= 0.057   loss= 0.357\n",
      "iteración: 6   w= 0.066   loss= 0.353\n",
      "iteración: 7   w= 0.074   loss= 0.349\n",
      "iteración: 8   w= 0.083   loss= 0.345\n",
      "iteración: 9   w= 0.091   loss= 0.342\n"
     ]
    }
   ],
   "source": [
    "#ejemplo 3 (cálculo automático de gradientes)\n",
    "\n",
    "import torch\n",
    "\n",
    "# Parámetro a optimizar\n",
    "w = torch.tensor(0.0, requires_grad=True)\n",
    "\n",
    "# Datos de entrada y salida\n",
    "X = torch.rand(5)\n",
    "Y = torch.rand(5)\n",
    "\n",
    "# Definir modelo\n",
    "def Y_hat(x):\n",
    "    return w * x\n",
    "\n",
    "# Definir función de pérdida (solo la fórmula, sin gradiente manual)\n",
    "def loss(y_pred, y_true):\n",
    "    return ((y_pred - y_true) ** 2).mean()\n",
    "\n",
    "learning_rate = 0.02\n",
    "n_iters = 10\n",
    "\n",
    "for epoch in range(n_iters):\n",
    "    y_pred = Y_hat(X)          # Predicción\n",
    "    l = loss(y_pred, Y)        # Cálculo de pérdida\n",
    "    l.backward()               # PyTorch calcula gradientes automáticamente\n",
    "    with torch.no_grad():      # Actualizar parámetro sin tracking de gradientes\n",
    "        w -= learning_rate * w.grad\n",
    "        w.grad.zero_()         # Limpiar gradientes para la siguiente iteración\n",
    "    if epoch % 1 == 0:\n",
    "        print(f'iteración: {epoch}   w= {w.item():.3f}   loss= {l.item():.3f}')\n"
   ]
  }
 ],
 "metadata": {
  "kernelspec": {
   "display_name": "Python 3",
   "language": "python",
   "name": "python3"
  },
  "language_info": {
   "codemirror_mode": {
    "name": "ipython",
    "version": 3
   },
   "file_extension": ".py",
   "mimetype": "text/x-python",
   "name": "python",
   "nbconvert_exporter": "python",
   "pygments_lexer": "ipython3",
   "version": "3.12.9"
  }
 },
 "nbformat": 4,
 "nbformat_minor": 2
}
